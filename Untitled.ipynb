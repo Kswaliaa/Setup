{
 "cells": [
  {
   "cell_type": "markdown",
   "id": "316af5f1-f90f-4ebb-b21b-13727a81d3e8",
   "metadata": {},
   "source": [
    "nabbjbdaj"
   ]
  },
  {
   "cell_type": "markdown",
   "id": "699c474e-3e0a-45ae-968e-d3840e9340bc",
   "metadata": {},
   "source": []
  },
  {
   "cell_type": "code",
   "execution_count": null,
   "id": "5c386076-7815-4064-91d9-bab25e430715",
   "metadata": {},
   "outputs": [],
   "source": []
  }
 ],
 "metadata": {
  "kernelspec": {
   "display_name": "Python 3 (ipykernel)",
   "language": "python",
   "name": "python3"
  },
  "language_info": {
   "codemirror_mode": {
    "name": "ipython",
    "version": 3
   },
   "file_extension": ".py",
   "mimetype": "text/x-python",
   "name": "python",
   "nbconvert_exporter": "python",
   "pygments_lexer": "ipython3",
   "version": "3.10.8"
  }
 },
 "nbformat": 4,
 "nbformat_minor": 5
}
